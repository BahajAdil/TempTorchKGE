{
 "cells": [
  {
   "cell_type": "code",
   "execution_count": 41,
   "id": "955e3a66",
   "metadata": {},
   "outputs": [],
   "source": [
    "import json\n",
    "import pandas as pd\n",
    "from collections import Counter"
   ]
  },
  {
   "cell_type": "code",
   "execution_count": 55,
   "id": "a511e28b",
   "metadata": {},
   "outputs": [],
   "source": [
    "def read_json_lines(file_name):\n",
    "    lines = []\n",
    "    with open(file_name) as file_in:\n",
    "        for line in file_in:\n",
    "            lines.append(json.loads(line))\n",
    "    return lines\n",
    "\n",
    "def write_json_lines(file_name,dict_data):\n",
    "    json_string = json.dumps(dict_data)\n",
    "    with open(file_name, 'a') as f:\n",
    "        f.write(json_string+\"\\n\")\n",
    "        \n",
    "def get_train_res(file_name):\n",
    "    all_res = []\n",
    "#     impo_hp = ['b_size', 'dataset', 'emb_dim', 'lr', 'margin', 'model_name', 'n_neg']\n",
    "    res = read_json_lines(file_name)\n",
    "    for i in res:\n",
    "        result = i['train_params']\n",
    "#         result = {hp:result[hp] for hp in impo_hp}\n",
    "        result.update(i['test_results'])\n",
    "        all_res.append(result)\n",
    "    return pd.DataFrame(all_res)\n",
    "\n",
    "def get_best_model():\n",
    "    part1_experiments = get_train_res('edukg_experiments_part1.jsonl')\n",
    "    part2_experiments = get_train_res('edukg_experiments_part2.jsonl')\n",
    "    experiments = pd.concat([part1_experiments, part2_experiments])\n",
    "    best_model  = experiments[experiments['filt_mrr']==experiments['filt_mrr'].max()].to_dict('records')[0]\n",
    "    return best_model\n",
    "\n",
    "def get_best_model_results():\n",
    "    part1_experiments = get_train_res('edukg_experiments_part1.jsonl')\n",
    "    part2_experiments = get_train_res('edukg_experiments_part2.jsonl')\n",
    "    experiments = pd.concat([part1_experiments, part2_experiments])\n",
    "    best_experiments = experiments.sort_values(['filt_mrr'],ascending=False).groupby('model_name').first()\n",
    "    best_experiments = best_experiments[['filt_hit_1', 'filt_hit_3', 'filt_hit_10',\n",
    "                                         'filt_mrr', 'b_size', 'lr', 'emb_dim', 'margin', 'n_neg', 's_rep_ratio', 'dropout']]\n",
    "    \n",
    "    return best_experiments\n"
   ]
  },
  {
   "cell_type": "markdown",
   "id": "33be6703",
   "metadata": {},
   "source": [
    "## Best Models"
   ]
  },
  {
   "cell_type": "code",
   "execution_count": null,
   "id": "bb812e85",
   "metadata": {},
   "outputs": [],
   "source": []
  },
  {
   "cell_type": "code",
   "execution_count": 36,
   "id": "7804c37b",
   "metadata": {},
   "outputs": [
    {
     "data": {
      "text/plain": [
       "{'n_epochs': 1000,\n",
       " 'data_home': '/home/vortex/Desktop/Projects/TempTorchKGE_V2/datasets',\n",
       " 'model_save_name': 'TDistMultModel.bt',\n",
       " 'loss_name': 'MarginLoss',\n",
       " 'model_path': 'best_models',\n",
       " 'time_mode': 'seq',\n",
       " 'dissimilarity_type': 'L2',\n",
       " 'model_name': 'TDistMultModel',\n",
       " 'dataset': 'edukg',\n",
       " 'n_entities': 13346,\n",
       " 'n_relations': 12,\n",
       " 'tem_total': 2012,\n",
       " 'b_size': 4000,\n",
       " 'lr': 0.001,\n",
       " 'emb_dim': 50,\n",
       " 'margin': 1,\n",
       " 'n_neg': 10,\n",
       " 'hit_1': 0.20081131905317307,\n",
       " 'filt_hit_1': 0.6177013516426086,\n",
       " 'hit_2': 0.3217346668243408,\n",
       " 'filt_hit_2': 0.7723654210567474,\n",
       " 'hit_3': 0.39383846521377563,\n",
       " 'filt_hit_3': 0.8453880846500397,\n",
       " 'hit_4': 0.4369121789932251,\n",
       " 'filt_hit_4': 0.8862268626689911,\n",
       " 'hit_5': 0.4648910164833069,\n",
       " 'filt_hit_5': 0.9105423390865326,\n",
       " 'hit_6': 0.48371344804763794,\n",
       " 'filt_hit_6': 0.9259060025215149,\n",
       " 'hit_7': 0.49583107233047485,\n",
       " 'filt_hit_7': 0.9354596734046936,\n",
       " 'hit_8': 0.5044337660074234,\n",
       " 'filt_hit_8': 0.9419397711753845,\n",
       " 'hit_9': 0.5115117132663727,\n",
       " 'filt_hit_9': 0.946979433298111,\n",
       " 'hit_10': 0.5175384283065796,\n",
       " 'filt_hit_10': 0.9508474469184875,\n",
       " 'mr': 93.93487548828125,\n",
       " 'filt_mr': 8.737977981567383,\n",
       " 'head_mrr': 0.3193792402744293,\n",
       " 'tail_mrr': 0.31296825408935547,\n",
       " 'filt_head_mrr': 0.7371416091918945,\n",
       " 'filt_tail_mrr': 0.7469322681427002,\n",
       " 'mrr': 0.3161737322807312,\n",
       " 'filt_mrr': 0.7420369386672974,\n",
       " 'dropout': nan,\n",
       " 's_rep_ratio': nan}"
      ]
     },
     "execution_count": 36,
     "metadata": {},
     "output_type": "execute_result"
    }
   ],
   "source": [
    "get_best_model()"
   ]
  },
  {
   "cell_type": "code",
   "execution_count": 56,
   "id": "6a214992",
   "metadata": {},
   "outputs": [],
   "source": [
    "xx = get_best_model_results()"
   ]
  },
  {
   "cell_type": "code",
   "execution_count": null,
   "id": "229b4fc0",
   "metadata": {},
   "outputs": [],
   "source": []
  },
  {
   "cell_type": "code",
   "execution_count": 57,
   "id": "3c5c3d39",
   "metadata": {},
   "outputs": [
    {
     "data": {
      "text/html": [
       "<div>\n",
       "<style scoped>\n",
       "    .dataframe tbody tr th:only-of-type {\n",
       "        vertical-align: middle;\n",
       "    }\n",
       "\n",
       "    .dataframe tbody tr th {\n",
       "        vertical-align: top;\n",
       "    }\n",
       "\n",
       "    .dataframe thead th {\n",
       "        text-align: right;\n",
       "    }\n",
       "</style>\n",
       "<table border=\"1\" class=\"dataframe\">\n",
       "  <thead>\n",
       "    <tr style=\"text-align: right;\">\n",
       "      <th></th>\n",
       "      <th>filt_hit_1</th>\n",
       "      <th>filt_hit_3</th>\n",
       "      <th>filt_hit_10</th>\n",
       "      <th>filt_mrr</th>\n",
       "      <th>b_size</th>\n",
       "      <th>lr</th>\n",
       "      <th>emb_dim</th>\n",
       "      <th>margin</th>\n",
       "      <th>n_neg</th>\n",
       "      <th>s_rep_ratio</th>\n",
       "      <th>dropout</th>\n",
       "    </tr>\n",
       "    <tr>\n",
       "      <th>model_name</th>\n",
       "      <th></th>\n",
       "      <th></th>\n",
       "      <th></th>\n",
       "      <th></th>\n",
       "      <th></th>\n",
       "      <th></th>\n",
       "      <th></th>\n",
       "      <th></th>\n",
       "      <th></th>\n",
       "      <th></th>\n",
       "      <th></th>\n",
       "    </tr>\n",
       "  </thead>\n",
       "  <tbody>\n",
       "    <tr>\n",
       "      <th>DEDistMultModel</th>\n",
       "      <td>0.548242</td>\n",
       "      <td>0.705422</td>\n",
       "      <td>0.913760</td>\n",
       "      <td>0.657922</td>\n",
       "      <td>2000</td>\n",
       "      <td>0.0010</td>\n",
       "      <td>100</td>\n",
       "      <td>1</td>\n",
       "      <td>10</td>\n",
       "      <td>0.1</td>\n",
       "      <td>0.2</td>\n",
       "    </tr>\n",
       "    <tr>\n",
       "      <th>DETransEModel</th>\n",
       "      <td>0.484921</td>\n",
       "      <td>0.583002</td>\n",
       "      <td>0.714077</td>\n",
       "      <td>0.560718</td>\n",
       "      <td>4000</td>\n",
       "      <td>0.0001</td>\n",
       "      <td>100</td>\n",
       "      <td>1</td>\n",
       "      <td>40</td>\n",
       "      <td>0.1</td>\n",
       "      <td>0.2</td>\n",
       "    </tr>\n",
       "    <tr>\n",
       "      <th>TDistMultModel</th>\n",
       "      <td>0.617701</td>\n",
       "      <td>0.845388</td>\n",
       "      <td>0.950847</td>\n",
       "      <td>0.742037</td>\n",
       "      <td>4000</td>\n",
       "      <td>0.0010</td>\n",
       "      <td>50</td>\n",
       "      <td>1</td>\n",
       "      <td>10</td>\n",
       "      <td>NaN</td>\n",
       "      <td>NaN</td>\n",
       "    </tr>\n",
       "    <tr>\n",
       "      <th>TTransEModel</th>\n",
       "      <td>0.612630</td>\n",
       "      <td>0.795618</td>\n",
       "      <td>0.900832</td>\n",
       "      <td>0.716565</td>\n",
       "      <td>4000</td>\n",
       "      <td>0.0010</td>\n",
       "      <td>50</td>\n",
       "      <td>20</td>\n",
       "      <td>30</td>\n",
       "      <td>NaN</td>\n",
       "      <td>NaN</td>\n",
       "    </tr>\n",
       "  </tbody>\n",
       "</table>\n",
       "</div>"
      ],
      "text/plain": [
       "                 filt_hit_1  filt_hit_3  filt_hit_10  filt_mrr  b_size  \\\n",
       "model_name                                                               \n",
       "DEDistMultModel    0.548242    0.705422     0.913760  0.657922    2000   \n",
       "DETransEModel      0.484921    0.583002     0.714077  0.560718    4000   \n",
       "TDistMultModel     0.617701    0.845388     0.950847  0.742037    4000   \n",
       "TTransEModel       0.612630    0.795618     0.900832  0.716565    4000   \n",
       "\n",
       "                     lr  emb_dim  margin  n_neg  s_rep_ratio  dropout  \n",
       "model_name                                                             \n",
       "DEDistMultModel  0.0010      100       1     10          0.1      0.2  \n",
       "DETransEModel    0.0001      100       1     40          0.1      0.2  \n",
       "TDistMultModel   0.0010       50       1     10          NaN      NaN  \n",
       "TTransEModel     0.0010       50      20     30          NaN      NaN  "
      ]
     },
     "execution_count": 57,
     "metadata": {},
     "output_type": "execute_result"
    }
   ],
   "source": [
    "xx"
   ]
  },
  {
   "cell_type": "code",
   "execution_count": 64,
   "id": "6a2e96a9",
   "metadata": {},
   "outputs": [
    {
     "name": "stdout",
     "output_type": "stream",
     "text": [
      "\\begin{tabular}{lrrrr}\n",
      "\\toprule\n",
      "     model\\_name &  filt\\_hit\\_1 &  filt\\_hit\\_3 &  filt\\_hit\\_10 &  filt\\_mrr \\\\\n",
      "\\midrule\n",
      "DEDistMultModel &    0.548242 &    0.705422 &     0.913760 &  0.657922 \\\\\n",
      "  DETransEModel &    0.484921 &    0.583002 &     0.714077 &  0.560718 \\\\\n",
      " TDistMultModel &    0.617701 &    0.845388 &     0.950847 &  0.742037 \\\\\n",
      "   TTransEModel &    0.612630 &    0.795618 &     0.900832 &  0.716565 \\\\\n",
      "\\bottomrule\n",
      "\\end{tabular}\n",
      "\n"
     ]
    },
    {
     "name": "stderr",
     "output_type": "stream",
     "text": [
      "/tmp/ipykernel_3840209/1181275353.py:1: FutureWarning: In future versions `DataFrame.to_latex` is expected to utilise the base implementation of `Styler.to_latex` for formatting and rendering. The arguments signature may therefore change. It is recommended instead to use `DataFrame.style.to_latex` which also contains additional functionality.\n",
      "  print(xx[['filt_hit_1', 'filt_hit_3', 'filt_hit_10', 'filt_mrr']].reset_index().to_latex(index=False))\n"
     ]
    }
   ],
   "source": [
    "print(xx[['filt_hit_1', 'filt_hit_3', 'filt_hit_10', 'filt_mrr']].reset_index().to_latex(index=False))"
   ]
  },
  {
   "cell_type": "code",
   "execution_count": 65,
   "id": "609e4eef",
   "metadata": {},
   "outputs": [
    {
     "name": "stdout",
     "output_type": "stream",
     "text": [
      "\\begin{tabular}{lrrrrrr}\n",
      "\\toprule\n",
      "     model\\_name &     lr &  emb\\_dim &  margin &  n\\_neg &  s\\_rep\\_ratio &  dropout \\\\\n",
      "\\midrule\n",
      "DEDistMultModel & 0.0010 &      100 &       1 &     10 &          0.1 &      0.2 \\\\\n",
      "  DETransEModel & 0.0001 &      100 &       1 &     40 &          0.1 &      0.2 \\\\\n",
      " TDistMultModel & 0.0010 &       50 &       1 &     10 &          NaN &      NaN \\\\\n",
      "   TTransEModel & 0.0010 &       50 &      20 &     30 &          NaN &      NaN \\\\\n",
      "\\bottomrule\n",
      "\\end{tabular}\n",
      "\n"
     ]
    },
    {
     "name": "stderr",
     "output_type": "stream",
     "text": [
      "/tmp/ipykernel_3840209/3065102251.py:1: FutureWarning: In future versions `DataFrame.to_latex` is expected to utilise the base implementation of `Styler.to_latex` for formatting and rendering. The arguments signature may therefore change. It is recommended instead to use `DataFrame.style.to_latex` which also contains additional functionality.\n",
      "  print(xx[['lr', 'emb_dim', 'margin', 'n_neg', 's_rep_ratio', 'dropout']].reset_index().to_latex(index=False))\n"
     ]
    }
   ],
   "source": [
    "print(xx[['lr', 'emb_dim', 'margin', 'n_neg', 's_rep_ratio', 'dropout']].reset_index().to_latex(index=False))"
   ]
  },
  {
   "cell_type": "code",
   "execution_count": null,
   "id": "cb3567f1",
   "metadata": {},
   "outputs": [],
   "source": []
  }
 ],
 "metadata": {
  "kernelspec": {
   "display_name": "Python 3 (ipykernel)",
   "language": "python",
   "name": "python3"
  },
  "language_info": {
   "codemirror_mode": {
    "name": "ipython",
    "version": 3
   },
   "file_extension": ".py",
   "mimetype": "text/x-python",
   "name": "python",
   "nbconvert_exporter": "python",
   "pygments_lexer": "ipython3",
   "version": "3.8.16"
  }
 },
 "nbformat": 4,
 "nbformat_minor": 5
}
